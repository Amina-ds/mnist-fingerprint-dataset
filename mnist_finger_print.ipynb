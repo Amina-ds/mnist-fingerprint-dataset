{
  "nbformat": 4,
  "nbformat_minor": 0,
  "metadata": {
    "colab": {
      "provenance": []
    },
    "kernelspec": {
      "name": "python3",
      "display_name": "Python 3"
    },
    "language_info": {
      "name": "python"
    }
  },
  "cells": [
    {
      "cell_type": "code",
      "source": [
        "import tensorflow as tf\n",
        "import numpy as np\n",
        "import matplotlib.pyplot as plt\n",
        "from sklearn.metrics import classification_report\n",
        "import os"
      ],
      "metadata": {
        "id": "QNsLMxph8gpf"
      },
      "execution_count": 17,
      "outputs": []
    },
    {
      "cell_type": "code",
      "source": [
        "(x_train_full, y_train_full), (x_test, y_test) = tf.keras.datasets.mnist.load_data()\n",
        "x_train_full = x_train_full.astype('float32') / 255.0\n",
        "x_test = x_test.astype('float32') / 255.0\n",
        "x_train_full = np.expand_dims(x_train_full, -1)\n",
        "x_test = np.expand_dims(x_test, -1)"
      ],
      "metadata": {
        "id": "lgZ51nWX-d23"
      },
      "execution_count": 18,
      "outputs": []
    },
    {
      "cell_type": "code",
      "source": [
        "num_train_samples = 20000\n",
        "x_train_small = x_train_full[:num_train_samples]\n",
        "y_train_small = y_train_full[:num_train_samples]\n",
        "print(f\"Данных для обучения взято: {x_train_small.shape[0]}\")"
      ],
      "metadata": {
        "colab": {
          "base_uri": "https://localhost:8080/"
        },
        "id": "lLRjjNjm-gv3",
        "outputId": "736f3195-f8b4-49f1-e0b4-899a141c907a"
      },
      "execution_count": 20,
      "outputs": [
        {
          "output_type": "stream",
          "name": "stdout",
          "text": [
            "Данных для обучения взято: 20000\n"
          ]
        }
      ]
    },
    {
      "cell_type": "code",
      "source": [
        "model = tf.keras.Sequential([\n",
        "    tf.keras.layers.Conv2D(32, (3, 3), activation='relu', input_shape=(28, 28, 1)),\n",
        "    tf.keras.layers.MaxPooling2D((2, 2)),\n",
        "    tf.keras.layers.Flatten(),\n",
        "    tf.keras.layers.Dense(64, activation='relu'),\n",
        "    tf.keras.layers.Dense(10, activation='softmax')\n",
        "])\n",
        "model.compile(optimizer='adam',\n",
        "              loss='sparse_categorical_crossentropy',\n",
        "              metrics=['accuracy'])\n",
        "print(\"Начинаем обучение на урезанной выборке (20,000)...\")\n",
        "model.fit(x_train_small, y_train_small, epochs=5, validation_data=(x_test, y_test))\n",
        "print(\"Обучение битти.\")"
      ],
      "metadata": {
        "colab": {
          "base_uri": "https://localhost:8080/"
        },
        "id": "9EXVZvAp-uJI",
        "outputId": "f88004d3-ef72-4fb2-a5a0-dd5eec004b04"
      },
      "execution_count": 22,
      "outputs": [
        {
          "output_type": "stream",
          "name": "stdout",
          "text": [
            "Начинаем обучение на урезанной выборке (20,000)...\n",
            "Epoch 1/5\n",
            "\u001b[1m625/625\u001b[0m \u001b[32m━━━━━━━━━━━━━━━━━━━━\u001b[0m\u001b[37m\u001b[0m \u001b[1m16s\u001b[0m 23ms/step - accuracy: 0.8238 - loss: 0.5827 - val_accuracy: 0.9568 - val_loss: 0.1417\n",
            "Epoch 2/5\n",
            "\u001b[1m625/625\u001b[0m \u001b[32m━━━━━━━━━━━━━━━━━━━━\u001b[0m\u001b[37m\u001b[0m \u001b[1m17s\u001b[0m 27ms/step - accuracy: 0.9692 - loss: 0.1081 - val_accuracy: 0.9716 - val_loss: 0.0890\n",
            "Epoch 3/5\n",
            "\u001b[1m625/625\u001b[0m \u001b[32m━━━━━━━━━━━━━━━━━━━━\u001b[0m\u001b[37m\u001b[0m \u001b[1m17s\u001b[0m 27ms/step - accuracy: 0.9824 - loss: 0.0635 - val_accuracy: 0.9727 - val_loss: 0.0849\n",
            "Epoch 4/5\n",
            "\u001b[1m625/625\u001b[0m \u001b[32m━━━━━━━━━━━━━━━━━━━━\u001b[0m\u001b[37m\u001b[0m \u001b[1m23s\u001b[0m 37ms/step - accuracy: 0.9880 - loss: 0.0429 - val_accuracy: 0.9778 - val_loss: 0.0715\n",
            "Epoch 5/5\n",
            "\u001b[1m625/625\u001b[0m \u001b[32m━━━━━━━━━━━━━━━━━━━━\u001b[0m\u001b[37m\u001b[0m \u001b[1m32s\u001b[0m 22ms/step - accuracy: 0.9905 - loss: 0.0332 - val_accuracy: 0.9772 - val_loss: 0.0706\n",
            "Обучение битти.\n"
          ]
        }
      ]
    },
    {
      "cell_type": "code",
      "source": [
        "print(\"Оценка производительности модели:\")\n",
        "y_pred_test_probs = model.predict(x_test)\n",
        "y_pred_test = np.argmax(y_pred_test_probs, axis=1)\n",
        "target_names = [f\"Цифра {i}\" for i in range(10)]\n",
        "print(classification_report(y_test, y_pred_test, target_names=target_names))"
      ],
      "metadata": {
        "colab": {
          "base_uri": "https://localhost:8080/"
        },
        "id": "c-k0siXW_QVa",
        "outputId": "b29fdd7f-a057-498e-f69a-57f8293038b5"
      },
      "execution_count": 23,
      "outputs": [
        {
          "output_type": "stream",
          "name": "stdout",
          "text": [
            "Оценка производительности модели:\n",
            "\u001b[1m313/313\u001b[0m \u001b[32m━━━━━━━━━━━━━━━━━━━━\u001b[0m\u001b[37m\u001b[0m \u001b[1m2s\u001b[0m 6ms/step\n",
            "              precision    recall  f1-score   support\n",
            "\n",
            "     Цифра 0       0.98      0.99      0.98       980\n",
            "     Цифра 1       0.99      0.99      0.99      1135\n",
            "     Цифра 2       0.96      0.98      0.97      1032\n",
            "     Цифра 3       0.98      0.98      0.98      1010\n",
            "     Цифра 4       0.98      0.98      0.98       982\n",
            "     Цифра 5       0.99      0.96      0.97       892\n",
            "     Цифра 6       0.98      0.98      0.98       958\n",
            "     Цифра 7       0.97      0.97      0.97      1028\n",
            "     Цифра 8       0.98      0.96      0.97       974\n",
            "     Цифра 9       0.96      0.98      0.97      1009\n",
            "\n",
            "    accuracy                           0.98     10000\n",
            "   macro avg       0.98      0.98      0.98     10000\n",
            "weighted avg       0.98      0.98      0.98     10000\n",
            "\n"
          ]
        }
      ]
    },
    {
      "cell_type": "code",
      "source": [
        "print(\"Инференс (поиск ошибок) на ВСЕХ данных\")\n",
        "x_all = np.concatenate([x_train_full, x_test], axis=0)\n",
        "y_all = np.concatenate([y_train_full, y_test], axis=0)\n",
        "print(f\"Общее количество изображений для инференса: {x_all.shape[0]}\")\n",
        "all_predictions_probs = model.predict(x_all)\n",
        "all_predictions = np.argmax(all_predictions_probs, axis=1)\n",
        "misclassified_indices = np.where(all_predictions != y_all)[0]\n",
        "fingerprint_images = x_all[misclassified_indices]\n",
        "fingerprint_labels = y_all[misclassified_indices]\n",
        "print(\"\\n--- РЕЗУЛЬТАТ ---\")\n",
        "print(f\"Найдено {len(fingerprint_images)} плохо распознаваемых изображений.\")\n",
        "print(f\"Итоговый размер 'Fingerprint Dataset': {fingerprint_images.shape}\")"
      ],
      "metadata": {
        "colab": {
          "base_uri": "https://localhost:8080/"
        },
        "id": "8DSOw-hb_VIR",
        "outputId": "11f9c86b-dcd9-464d-dd01-65f1d15e7ccf"
      },
      "execution_count": 25,
      "outputs": [
        {
          "output_type": "stream",
          "name": "stdout",
          "text": [
            "Инференс (поиск ошибок) на ВСЕХ данных\n",
            "Общее количество изображений для инференса: 70000\n",
            "\u001b[1m2188/2188\u001b[0m \u001b[32m━━━━━━━━━━━━━━━━━━━━\u001b[0m\u001b[37m\u001b[0m \u001b[1m15s\u001b[0m 7ms/step\n",
            "\n",
            "--- РЕЗУЛЬТАТ ---\n",
            "Найдено 1304 плохо распознаваемых изображений.\n",
            "Итоговый размер 'Fingerprint Dataset': (1304, 28, 28, 1)\n"
          ]
        }
      ]
    },
    {
      "cell_type": "code",
      "source": [
        "output_dir = 'fingerprint_dataset'\n",
        "if not os.path.exists(output_dir):\n",
        "    os.makedirs(output_dir)\n",
        "    print(f\"Создана папка: {output_dir}\")\n",
        "print(f\"Сохранение {len(fingerprint_images)} изображений в папку...\")"
      ],
      "metadata": {
        "colab": {
          "base_uri": "https://localhost:8080/"
        },
        "id": "lLiEZ7Ov_-yD",
        "outputId": "3ad21820-53e3-4ebd-ab59-4b322ff5dd2e"
      },
      "execution_count": 26,
      "outputs": [
        {
          "output_type": "stream",
          "name": "stdout",
          "text": [
            "Создана папка: fingerprint_dataset\n",
            "Сохранение 1304 изображений в папку...\n"
          ]
        }
      ]
    },
    {
      "cell_type": "code",
      "source": [
        "for i, image_index in enumerate(misclassified_indices):\n",
        "    image_array = x_all[image_index]\n",
        "    true_label = y_all[image_index]\n",
        "    predicted_label = all_predictions[image_index]\n",
        "\n",
        "    filename = f\"{str(i).zfill(4)}__pred-{predicted_label}__true-{true_label}.png\"\n",
        "    filepath = os.path.join(output_dir, filename)\n",
        "\n",
        "    plt.imsave(filepath, np.squeeze(image_array), cmap='gray')"
      ],
      "metadata": {
        "id": "lIzQ5eXaAEom"
      },
      "execution_count": 27,
      "outputs": []
    }
  ]
}